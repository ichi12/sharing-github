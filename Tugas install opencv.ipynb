{
 "cells": [
  {
   "cell_type": "code",
   "execution_count": 1,
   "metadata": {},
   "outputs": [
    {
     "name": "stdout",
     "output_type": "stream",
     "text": [
      "Collecting opencv-python==3.4.2.17\n",
      "  Using cached opencv_python-3.4.2.17-cp37-cp37m-win32.whl (23.1 MB)\n",
      "Requirement already satisfied: numpy>=1.14.5 in d:\\aplikasi\\anaconda\\lib\\site-packages (from opencv-python==3.4.2.17) (1.18.1)\n",
      "Installing collected packages: opencv-python\n",
      "Successfully installed opencv-python-3.4.2.17\n",
      "Note: you may need to restart the kernel to use updated packages.\n"
     ]
    }
   ],
   "source": [
    "#masukkan \"pip install opencv-python==3.4.2.17\" untuk menginstall opencv\n",
    "\n",
    "pip install opencv-python==3.4.2.17 "
   ]
  },
  {
   "cell_type": "code",
   "execution_count": 2,
   "metadata": {},
   "outputs": [
    {
     "name": "stdout",
     "output_type": "stream",
     "text": [
      "Collecting opencv-contrib-python==3.4.2.17\n",
      "  Using cached opencv_contrib_python-3.4.2.17-cp37-cp37m-win32.whl (28.0 MB)\n",
      "Requirement already satisfied: numpy>=1.14.5 in d:\\aplikasi\\anaconda\\lib\\site-packages (from opencv-contrib-python==3.4.2.17) (1.18.1)\n",
      "Installing collected packages: opencv-contrib-python\n",
      "Successfully installed opencv-contrib-python-3.4.2.17\n",
      "Note: you may need to restart the kernel to use updated packages.\n"
     ]
    }
   ],
   "source": [
    "#setelah langkah pertama berhasil selanjutnya masukan \"pip install opencv-contrib-python==3.4.2.17\"\n",
    "\n",
    "pip install opencv-contrib-python==3.4.2.17"
   ]
  },
  {
   "cell_type": "code",
   "execution_count": 4,
   "metadata": {},
   "outputs": [],
   "source": [
    "#untuk mengecek apakah opencv sudah terinstal masukan \"import cv2\"\n",
    "\n",
    "import cv2"
   ]
  },
  {
   "cell_type": "code",
   "execution_count": 5,
   "metadata": {},
   "outputs": [
    {
     "name": "stdout",
     "output_type": "stream",
     "text": [
      "3.4.2\n"
     ]
    }
   ],
   "source": [
    "#selanjutnya masukan \"print(cv2.__version__)\" untuk mengecek versinya\n",
    "\n",
    "print(cv2.__version__)"
   ]
  },
  {
   "cell_type": "code",
   "execution_count": null,
   "metadata": {},
   "outputs": [],
   "source": []
  }
 ],
 "metadata": {
  "kernelspec": {
   "display_name": "Python 3",
   "language": "python",
   "name": "python3"
  },
  "language_info": {
   "codemirror_mode": {
    "name": "ipython",
    "version": 3
   },
   "file_extension": ".py",
   "mimetype": "text/x-python",
   "name": "python",
   "nbconvert_exporter": "python",
   "pygments_lexer": "ipython3",
   "version": "3.7.6"
  }
 },
 "nbformat": 4,
 "nbformat_minor": 4
}
